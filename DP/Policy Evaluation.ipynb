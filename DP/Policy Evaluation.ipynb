{
 "cells": [
  {
   "cell_type": "code",
   "execution_count": 1,
   "metadata": {
    "collapsed": true
   },
   "outputs": [],
   "source": [
    "import numpy as np\n",
    "import sys\n",
    "if \"../\" not in sys.path:\n",
    "  sys.path.append(\"../\") \n",
    "from lib.envs.gridworld import GridworldEnv"
   ]
  },
  {
   "cell_type": "code",
   "execution_count": 2,
   "metadata": {
    "collapsed": true
   },
   "outputs": [],
   "source": [
    "env = GridworldEnv()"
   ]
  },
  {
   "cell_type": "markdown",
   "metadata": {},
   "source": [
    "$ \\\\\n",
    "v_{k+1}(s)=\\sum_{a{\\in}A}{\\pi}(a|s)(R_{s}^{a}+{\\gamma}\\sum_{s{\\in}S}P_{ss^{\\prime}}^{a}v_{k}^{s^{\\prime}} \\\\\n",
    "\\boldsymbol{v}^{k+1}=R^{\\pi}+{\\gamma}P^{\\pi}\\boldsymbol{v}^{k} \\\\\n",
    "R_{s}^{\\pi}=\\sum_{a{\\in}A}{\\pi}(a|s)R_{s}^{a} \\\\\n",
    "P_{s}^{\\pi}=\\sum_{a{\\in}A}{\\pi}(a|s)P_{ss^{\\prime}}^{a} \\\\\n",
    "$\n"
   ]
  },
  {
   "cell_type": "code",
   "execution_count": 3,
   "metadata": {
    "collapsed": true
   },
   "outputs": [],
   "source": [
    "def policy_eval(policy, env, discount_factor=1.0, theta=0.00001):\n",
    "    \"\"\"\n",
    "    Evaluate a policy given an environment and a full description of the environment's dynamics.\n",
    "    \n",
    "    Args:\n",
    "        policy: [S, A] shaped matrix representing the policy.\n",
    "        env: OpenAI env. env.P represents the transition probabilities of the environment.\n",
    "            env.P[s][a] is a list of transition tuples (prob, next_state, reward, done).\n",
    "            env.nS is a number of states in the environment. \n",
    "            env.nA is a number of actions in the environment.\n",
    "        theta: We stop evaluation once our value function change is less than theta for all states.\n",
    "        discount_factor: Gamma discount factor.\n",
    "    \n",
    "    Returns:\n",
    "        Vector of length env.nS representing the value function.\n",
    "    \"\"\"\n",
    "    # Start with a random (all 0) value function\n",
    "    V = np.zeros(env.nS)\n",
    "    V = V.reshape((-1,1))\n",
    "    \n",
    "    R_pi = np.array([np.sum([policy[s][a] * env.P[s][a][0][2]\n",
    "                             for a in range(env.nA)])\n",
    "                     for s in range(env.nS)])\n",
    "    R_pi = R_pi.reshape((-1,1))\n",
    "\n",
    "    P_pi = np.array([\n",
    "                        [\n",
    "                             np.sum([policy[s_from][a]\n",
    "                             for a in range(env.nA)\n",
    "                             if env.P[s_from][a][0][1]==s_to])\n",
    "                             \n",
    "                         for s_to in range(env.nS)]\n",
    "                     for s_from in range(env.nS)])\n",
    "\n",
    "    while True:\n",
    "        # TODO: Implement!\n",
    "        V_new = R_pi + discount_factor * np.matmul(P_pi, V)\n",
    "        if np.max(np.abs(V_new - V)) < theta:\n",
    "            V = V_new\n",
    "            break\n",
    "        V = V_new\n",
    "    return V.flatten().tolist()"
   ]
  },
  {
   "cell_type": "code",
   "execution_count": 4,
   "metadata": {
    "collapsed": true
   },
   "outputs": [],
   "source": [
    "random_policy = np.ones([env.nS, env.nA]) / env.nA\n",
    "v = policy_eval(random_policy, env)"
   ]
  },
  {
   "cell_type": "code",
   "execution_count": 5,
   "metadata": {},
   "outputs": [],
   "source": [
    "# Test: Make sure the evaluated policy is what we expected\n",
    "expected_v = np.array([0, -14, -20, -22, -14, -18, -20, -20, -20, -20, -18, -14, -22, -20, -14, 0])\n",
    "np.testing.assert_array_almost_equal(v, expected_v, decimal=2)"
   ]
  },
  {
   "cell_type": "code",
   "execution_count": 6,
   "metadata": {},
   "outputs": [
    {
     "name": "stdout",
     "output_type": "stream",
     "text": [
      "avg time: 0.0038263267799629828\n"
     ]
    }
   ],
   "source": [
    "import timeit\n",
    "n = 100\n",
    "t = timeit.timeit(\"policy_eval(random_policy, env)\", globals=globals(), number = n) / n\n",
    "print(\"avg time: {}\".format(t))"
   ]
  }
 ],
 "metadata": {
  "kernelspec": {
   "display_name": "Python 3",
   "language": "python",
   "name": "python3"
  },
  "language_info": {
   "codemirror_mode": {
    "name": "ipython",
    "version": 3
   },
   "file_extension": ".py",
   "mimetype": "text/x-python",
   "name": "python",
   "nbconvert_exporter": "python",
   "pygments_lexer": "ipython3",
   "version": "3.6.5"
  }
 },
 "nbformat": 4,
 "nbformat_minor": 2
}
